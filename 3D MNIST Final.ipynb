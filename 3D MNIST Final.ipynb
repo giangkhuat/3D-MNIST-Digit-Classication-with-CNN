{
 "cells": [
  {
   "cell_type": "code",
   "execution_count": 17,
   "metadata": {},
   "outputs": [
    {
     "name": "stdout",
     "output_type": "stream",
     "text": [
      "Collecting matplotlib\n",
      "  Using cached https://files.pythonhosted.org/packages/dd/73/dc25ca27a9960539ef984921b0d42368445b856ae0861c3acba542b9a39c/matplotlib-3.1.2-cp37-cp37m-win_amd64.whl\n",
      "Requirement already satisfied: numpy>=1.11 in c:\\users\\giang\\anaconda3\\envs\\tf\\lib\\site-packages (from matplotlib) (1.17.4)\n",
      "Collecting kiwisolver>=1.0.1\n",
      "  Using cached https://files.pythonhosted.org/packages/c6/ea/e5474014a13ab2dcb5056608e0716c600c3d8a8bcffb10ed55ccd6a42eb0/kiwisolver-1.1.0-cp37-none-win_amd64.whl\n",
      "Collecting pyparsing!=2.0.4,!=2.1.2,!=2.1.6,>=2.0.1\n",
      "  Using cached https://files.pythonhosted.org/packages/c0/0c/fc2e007d9a992d997f04a80125b0f183da7fb554f1de701bbb70a8e7d479/pyparsing-2.4.5-py2.py3-none-any.whl\n",
      "Collecting cycler>=0.10\n",
      "  Using cached https://files.pythonhosted.org/packages/f7/d2/e07d3ebb2bd7af696440ce7e754c59dd546ffe1bbe732c8ab68b9c834e61/cycler-0.10.0-py2.py3-none-any.whl\n",
      "Requirement already satisfied: python-dateutil>=2.1 in c:\\users\\giang\\anaconda3\\envs\\tf\\lib\\site-packages (from matplotlib) (2.8.1)\n",
      "Requirement already satisfied: setuptools in c:\\users\\giang\\anaconda3\\envs\\tf\\lib\\site-packages (from kiwisolver>=1.0.1->matplotlib) (42.0.1.post20191125)\n",
      "Requirement already satisfied: six in c:\\users\\giang\\anaconda3\\envs\\tf\\lib\\site-packages (from cycler>=0.10->matplotlib) (1.13.0)\n",
      "Installing collected packages: kiwisolver, pyparsing, cycler, matplotlib\n",
      "Successfully installed cycler-0.10.0 kiwisolver-1.1.0 matplotlib-3.1.2 pyparsing-2.4.5\n",
      "Note: you may need to restart the kernel to use updated packages.\n"
     ]
    }
   ],
   "source": [
    "pip install matplotlib"
   ]
  },
  {
   "cell_type": "code",
   "execution_count": 13,
   "metadata": {},
   "outputs": [],
   "source": [
    "import matplotlib.pyplot as plt\n",
    "import h5py\n",
    "import voxelgrid as vx"
   ]
  },
  {
   "cell_type": "code",
   "execution_count": 2,
   "metadata": {},
   "outputs": [],
   "source": [
    "train_point_cloud = h5py.File(\"train_point_clouds.h5\", \"r\")"
   ]
  },
  {
   "cell_type": "code",
   "execution_count": 3,
   "metadata": {},
   "outputs": [],
   "source": [
    "# with h5py.File(\"./Data/3d-mnist/train_point_clouds.h5\", \"r\") as hf:    \n",
    "a = train_point_cloud[\"0\"]\n",
    "b = train_point_cloud[\"1\"]    \n",
    "digit_a = (a[\"img\"][:], a[\"points\"][:], a.attrs[\"label\"]) \n",
    "digit_b = (b[\"img\"][:], b[\"points\"][:], b.attrs[\"label\"]) "
   ]
  },
  {
   "cell_type": "code",
   "execution_count": 4,
   "metadata": {},
   "outputs": [
    {
     "name": "stdout",
     "output_type": "stream",
     "text": [
      "<HDF5 dataset \"normals\": shape (25700, 3), type \"<f8\">\n"
     ]
    }
   ],
   "source": [
    "print(a[\"normals\"])"
   ]
  },
  {
   "cell_type": "code",
   "execution_count": 6,
   "metadata": {},
   "outputs": [
    {
     "data": {
      "text/plain": [
       "<matplotlib.image.AxesImage at 0x277892e46c8>"
      ]
     },
     "execution_count": 6,
     "metadata": {},
     "output_type": "execute_result"
    },
    {
     "data": {
      "image/png": "[encoded data removed]",
      "text/plain": [
       "<Figure size 432x288 with 1 Axes>"
      ]
     },
     "metadata": {
      "needs_background": "light"
     },
     "output_type": "display_data"
    }
   ],
   "source": [
    "# Example to visualize one digit\n",
    "# 0 is index the group \n",
    "# img is the key with values is the 2d array storing the image information\n",
    "plt.imshow(digit_a[0])"
   ]
  },
  {
   "cell_type": "code",
   "execution_count": 7,
   "metadata": {},
   "outputs": [
    {
     "name": "stdout",
     "output_type": "stream",
     "text": [
      "[[ 0.15       -0.1094358   0.47305447]\n",
      " [ 0.15       -0.0969358   0.47305447]\n",
      " [ 0.15       -0.0844358   0.47305447]\n",
      " ...\n",
      " [ 0.15       -0.1094358  -0.50194553]\n",
      " [ 0.15       -0.1094358  -0.51444553]\n",
      " [ 0.15       -0.1094358  -0.52694553]]\n"
     ]
    }
   ],
   "source": [
    "# This gives us x, y, z coordinates of each 3d point in the point cloud making up the number in 3D space\n",
    "print(digit_a[1])"
   ]
  },
  {
   "cell_type": "code",
   "execution_count": 8,
   "metadata": {},
   "outputs": [
    {
     "name": "stdout",
     "output_type": "stream",
     "text": [
      "5\n"
     ]
    }
   ],
   "source": [
    "# Label of the image\n",
    "print(digit_a[2])"
   ]
  },
  {
   "cell_type": "code",
   "execution_count": 9,
   "metadata": {},
   "outputs": [
    {
     "data": {
      "text/plain": [
       "<matplotlib.image.AxesImage at 0x2778938e508>"
      ]
     },
     "execution_count": 9,
     "metadata": {},
     "output_type": "execute_result"
    },
    {
     "data": {
      "image/png": "[encoded data removed]",
      "text/plain": [
       "<Figure size 432x288 with 1 Axes>"
      ]
     },
     "metadata": {
      "needs_background": "light"
     },
     "output_type": "display_data"
    }
   ],
   "source": [
    "plt.imshow(digit_b[0])"
   ]
  },
  {
   "cell_type": "code",
   "execution_count": 10,
   "metadata": {},
   "outputs": [
    {
     "name": "stdout",
     "output_type": "stream",
     "text": [
      "(26200, 3)\n"
     ]
    }
   ],
   "source": [
    "print(digit_b[1].shape)"
   ]
  },
  {
   "cell_type": "code",
   "execution_count": 22,
   "metadata": {},
   "outputs": [],
   "source": [
    "#  We split the grid into 16 segments along each axis resulting in a total of 4096 voxels\n",
    "voxel_grid = vx.VoxelGrid(digit_a[1], x_y_z = [16, 16, 16])"
   ]
  },
  {
   "cell_type": "code",
   "execution_count": 26,
   "metadata": {},
   "outputs": [
    {
     "data": {
      "text/plain": [
       "array([[  10,    6,   15, 3946],\n",
       "       [  10,    6,   15, 3946],\n",
       "       [  10,    6,   15, 3946],\n",
       "       ...,\n",
       "       [  10,    6,    0,  106],\n",
       "       [  10,    6,    0,  106],\n",
       "       [  10,    6,    0,  106]])"
      ]
     },
     "execution_count": 26,
     "metadata": {},
     "output_type": "execute_result"
    }
   ],
   "source": [
    "# 2d array of all the points in the point cloud\n",
    "voxel_grid.structure"
   ]
  },
  {
   "cell_type": "markdown",
   "metadata": {},
   "source": [
    "Each row in the array above is a point in the point cloud, with each col is the segment position with respect to x, y, z and globally. For example: [10, 6, 15, 3946] means the point lies in the voxel that is at position 10 in x direction, 6 in y-direction and 15 in z direction."
   ]
  },
  {
   "cell_type": "code",
   "execution_count": 69,
   "metadata": {},
   "outputs": [
    {
     "name": "stdout",
     "output_type": "stream",
     "text": [
      "<class 'h5py._hl.group.Group'>\n"
     ]
    }
   ],
   "source": [
    "# hf.keys() return a list of string representation of numbers 0, 1, 10, 1000,....4999\n",
    "# hf.keys() return which datasets are available\n",
    "# hf.values() return a list of hdf5 groups, each group has a set of keys and values\n",
    "   # keys: 'img', 'normals', 'points'\n",
    "   # values: hdf5 group \"/0\"\n",
    "with h5py.File(\"./Data/3d-mnist/train_point_clouds.h5\", \"r\") as hf:\n",
    "    a = hf['0']\n",
    "    print(type(a))"
   ]
  },
  {
   "cell_type": "code",
   "execution_count": null,
   "metadata": {},
   "outputs": [],
   "source": []
  }
 ],
 "metadata": {
  "kernelspec": {
   "display_name": "Python 3",
   "language": "python",
   "name": "python3"
  },
  "language_info": {
   "codemirror_mode": {
    "name": "ipython",
    "version": 3
   },
   "file_extension": ".py",
   "mimetype": "text/x-python",
   "name": "python",
   "nbconvert_exporter": "python",
   "pygments_lexer": "ipython3",
   "version": "3.7.5"
  }
 },
 "nbformat": 4,
 "nbformat_minor": 2
}
